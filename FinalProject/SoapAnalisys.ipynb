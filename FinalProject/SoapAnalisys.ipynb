{
 "cells": [
  {
   "attachments": {},
   "cell_type": "markdown",
   "metadata": {},
   "source": [
    "# Project Name\n",
    "This project notebook intends to predict, Given a dataset of clients, which is more likely to accept and invite and buy\n",
    "the companies product.\n",
    "We will demonstrate and explain the analysis and explain our method of work."
   ]
  },
  {
   "attachments": {},
   "cell_type": "markdown",
   "metadata": {},
   "source": [
    "Install relevant packages."
   ]
  },
  {
   "cell_type": "code",
   "execution_count": 1,
   "metadata": {},
   "outputs": [
    {
     "name": "stdout",
     "output_type": "stream",
     "text": [
      "Requirement already satisfied: scikit-learn in c:\\users\\ofeks\\onedrive\\תואר_שני\\שנה ב\\סמסטר א\\נושאים מתקדמים במדעי הנתונים למנהל עסקים\\temp_code\\venv\\lib\\site-packages (1.2.1)\n",
      "Requirement already satisfied: threadpoolctl>=2.0.0 in c:\\users\\ofeks\\onedrive\\תואר_שני\\שנה ב\\סמסטר א\\נושאים מתקדמים במדעי הנתונים למנהל עסקים\\temp_code\\venv\\lib\\site-packages (from scikit-learn) (3.1.0)\n",
      "Requirement already satisfied: scipy>=1.3.2 in c:\\users\\ofeks\\onedrive\\תואר_שני\\שנה ב\\סמסטר א\\נושאים מתקדמים במדעי הנתונים למנהל עסקים\\temp_code\\venv\\lib\\site-packages (from scikit-learn) (1.10.0)\n",
      "Requirement already satisfied: numpy>=1.17.3 in c:\\users\\ofeks\\onedrive\\תואר_שני\\שנה ב\\סמסטר א\\נושאים מתקדמים במדעי הנתונים למנהל עסקים\\temp_code\\venv\\lib\\site-packages (from scikit-learn) (1.24.1)\n",
      "Requirement already satisfied: joblib>=1.1.1 in c:\\users\\ofeks\\onedrive\\תואר_שני\\שנה ב\\סמסטר א\\נושאים מתקדמים במדעי הנתונים למנהל עסקים\\temp_code\\venv\\lib\\site-packages (from scikit-learn) (1.2.0)\n",
      "Note: you may need to restart the kernel to use updated packages.\n"
     ]
    },
    {
     "name": "stderr",
     "output_type": "stream",
     "text": [
      "WARNING: You are using pip version 22.0.4; however, version 23.0 is available.\n",
      "You should consider upgrading via the 'c:\\Users\\ofeks\\OneDrive\\תואר_שני\\שנה ב\\סמסטר א\\נושאים מתקדמים במדעי הנתונים למנהל עסקים\\temp_code\\venv\\Scripts\\python.exe -m pip install --upgrade pip' command.\n"
     ]
    },
    {
     "name": "stdout",
     "output_type": "stream",
     "text": [
      "Requirement already satisfied: xgboost in c:\\users\\ofeks\\onedrive\\תואר_שני\\שנה ב\\סמסטר א\\נושאים מתקדמים במדעי הנתונים למנהל עסקים\\temp_code\\venv\\lib\\site-packages (1.7.3)\n",
      "Requirement already satisfied: scipy in c:\\users\\ofeks\\onedrive\\תואר_שני\\שנה ב\\סמסטר א\\נושאים מתקדמים במדעי הנתונים למנהל עסקים\\temp_code\\venv\\lib\\site-packages (from xgboost) (1.10.0)\n",
      "Requirement already satisfied: numpy in c:\\users\\ofeks\\onedrive\\תואר_שני\\שנה ב\\סמסטר א\\נושאים מתקדמים במדעי הנתונים למנהל עסקים\\temp_code\\venv\\lib\\site-packages (from xgboost) (1.24.1)\n",
      "Note: you may need to restart the kernel to use updated packages.\n"
     ]
    },
    {
     "name": "stderr",
     "output_type": "stream",
     "text": [
      "WARNING: You are using pip version 22.0.4; however, version 23.0 is available.\n",
      "You should consider upgrading via the 'c:\\Users\\ofeks\\OneDrive\\תואר_שני\\שנה ב\\סמסטר א\\נושאים מתקדמים במדעי הנתונים למנהל עסקים\\temp_code\\venv\\Scripts\\python.exe -m pip install --upgrade pip' command.\n"
     ]
    },
    {
     "name": "stdout",
     "output_type": "stream",
     "text": [
      "Requirement already satisfied: tqdm in c:\\users\\ofeks\\onedrive\\תואר_שני\\שנה ב\\סמסטר א\\נושאים מתקדמים במדעי הנתונים למנהל עסקים\\temp_code\\venv\\lib\\site-packages (4.64.1)\n",
      "Requirement already satisfied: colorama in c:\\users\\ofeks\\onedrive\\תואר_שני\\שנה ב\\סמסטר א\\נושאים מתקדמים במדעי הנתונים למנהל עסקים\\temp_code\\venv\\lib\\site-packages (from tqdm) (0.4.6)\n",
      "Note: you may need to restart the kernel to use updated packages.\n"
     ]
    },
    {
     "name": "stderr",
     "output_type": "stream",
     "text": [
      "WARNING: You are using pip version 22.0.4; however, version 23.0 is available.\n",
      "You should consider upgrading via the 'c:\\Users\\ofeks\\OneDrive\\תואר_שני\\שנה ב\\סמסטר א\\נושאים מתקדמים במדעי הנתונים למנהל עסקים\\temp_code\\venv\\Scripts\\python.exe -m pip install --upgrade pip' command.\n"
     ]
    }
   ],
   "source": [
    "%pip install scikit-learn\n",
    "%pip install xgboost\n",
    "%pip install tqdm"
   ]
  },
  {
   "attachments": {},
   "cell_type": "markdown",
   "metadata": {},
   "source": [
    "Imports"
   ]
  },
  {
   "cell_type": "code",
   "execution_count": 2,
   "metadata": {},
   "outputs": [],
   "source": [
    "from sklearn.metrics import accuracy_score, f1_score\n",
    "from sklearn.model_selection import train_test_split\n",
    "from sklearn.feature_selection import SelectPercentile\n",
    "from sklearn.utils import class_weight\n",
    "import xgboost as xgb\n",
    "import pandas as pd\n",
    "from tqdm import tqdm\n"
   ]
  },
  {
   "attachments": {},
   "cell_type": "markdown",
   "metadata": {},
   "source": [
    "### First Step - Prediction with Bonus Assignment\n",
    "In order to use the 'reviews' data sets in our complete prediction model. We will need to predict the raiting of each review\n",
    "the same way we did in the bonus assignment. The predicted rating will help us in taking advantage of the review data.\n",
    "- The model will be built the same way as it was built in the bonus assignment.\n",
    "- The data used will be the data given in the bonus assignment.\n",
    "- The trained model will be used to predict the rating in the reviews_rollout.csv and reviews_training.csv\n",
    "- The act of training the model on data X and predicting on data was is valid becuase the samples were taken from the same population"
   ]
  },
  {
   "cell_type": "code",
   "execution_count": 3,
   "metadata": {},
   "outputs": [],
   "source": [
    "def train_bonus_ass_model():\n",
    "    \"\"\"\n",
    "        The function repeats the training process of the model in the\n",
    "        Bonus assignment. Returned values are the trained model and the selected values.\n",
    "\n",
    "        Features selection is done by '''SelectPercentile'''.\n",
    "        Model used is XGBoost.\n",
    "        Test is 20% of total data.\n",
    "    \"\"\"\n",
    "    df = pd.read_csv(\"../BonusAssignment/text_training.csv\", usecols=list(range(1,2002)))\n",
    "\n",
    "    # separate the features and target variable\n",
    "    features = df.iloc[:, 1:-1] # all columns except the last one (rating)\n",
    "    labels = df.iloc[:, -1] # last column (rating)\n",
    "\n",
    "    selector = SelectPercentile(percentile=10)\n",
    "    x = selector.fit_transform(features, labels)\n",
    "    selected_features = selector.get_feature_names_out()\n",
    "\n",
    "    x_train, x_test, y_train, y_test = train_test_split(x, labels, test_size=0.2, random_state=1)\n",
    "\n",
    "    xgb_bonus_clf = xgb.XGBClassifier(max_depth=4, seed=2)\n",
    "    xgb_bonus_clf.fit(x_train, y_train)\n",
    "\n",
    "    return xgb_bonus_clf, selected_features"
   ]
  },
  {
   "cell_type": "code",
   "execution_count": 4,
   "metadata": {},
   "outputs": [],
   "source": [
    "def bonus_ass_rating_prediction(table_path, trained_model, select_features):\n",
    "    \"\"\"\n",
    "        The function Receives the path to one of the foloowing tables: 'reviews_rollout.csv'\n",
    "        or 'reviews_training.csv' and returns the predicted values in dataframe along with the\n",
    "        respected ids.\n",
    "\n",
    "        Assumptions:\n",
    "        1. Both tables contain an id column\n",
    "        2. Rating Column does not appear in any table\n",
    "        3. model was Trained on the same tryp of population\n",
    "    \"\"\"    \n",
    "    df = pd.read_csv(table_path)\n",
    "    selected = df[select_features]\n",
    "    y_pred = trained_model.predict(selected)\n",
    "\n",
    "    return pd.concat([df[\"ID\"], pd.Series(y_pred, name='Rating')], axis=1)"
   ]
  },
  {
   "attachments": {},
   "cell_type": "markdown",
   "metadata": {},
   "source": [
    "#### Train and Predict\n",
    "The following section uses the functions above to predict the raiting column in the given reviews tables"
   ]
  },
  {
   "cell_type": "code",
   "execution_count": 5,
   "metadata": {},
   "outputs": [
    {
     "name": "stderr",
     "output_type": "stream",
     "text": [
      "c:\\Users\\ofeks\\OneDrive\\תואר_שני\\שנה ב\\סמסטר א\\נושאים מתקדמים במדעי הנתונים למנהל עסקים\\temp_code\\venv\\lib\\site-packages\\sklearn\\feature_selection\\_univariate_selection.py:112: UserWarning: Features [1208 1527] are constant.\n",
      "  warnings.warn(\"Features %s are constant.\" % constant_features_idx, UserWarning)\n",
      "c:\\Users\\ofeks\\OneDrive\\תואר_שני\\שנה ב\\סמסטר א\\נושאים מתקדמים במדעי הנתונים למנהל עסקים\\temp_code\\venv\\lib\\site-packages\\sklearn\\feature_selection\\_univariate_selection.py:113: RuntimeWarning: invalid value encountered in divide\n",
      "  f = msb / msw\n"
     ]
    }
   ],
   "source": [
    "trained_model, selected_features = train_bonus_ass_model()\n",
    "y_pred_rev_training =   bonus_ass_rating_prediction(\"Documents/reviews_training.csv\", trained_model, selected_features)\n",
    "y_pred_rev_rollout =    bonus_ass_rating_prediction(\"Documents/reviews_rollout.csv\", trained_model, selected_features)"
   ]
  },
  {
   "attachments": {},
   "cell_type": "markdown",
   "metadata": {},
   "source": [
    "#### Merge tables\n",
    "The following tables will be merged with the respected predicted rating.\n",
    "- ffp_rollout_X\n",
    "- ffp_train\n",
    "\n",
    "The merge process has one critical issue: Not all ID's in the ffp table, exist in the reviews table, That is when when performing an ```outer join```, the combined data will have ```Nan``` values in the ```Rating``` column.\n",
    "We will deal with this issue in the next step."
   ]
  },
  {
   "cell_type": "code",
   "execution_count": 6,
   "metadata": {},
   "outputs": [],
   "source": [
    "df_ffp_train = pd.read_csv(\"Documents/ffp_train.csv\")\n",
    "merged_ffp_train = pd.merge(left=df_ffp_train, right=y_pred_rev_training,how=\"outer\", on=\"ID\")\n",
    "\n",
    "df_ffp_rollout = pd.read_csv(\"Documents/ffp_rollout_X.csv\")\n",
    "merged_ffp_rollout = pd.merge(left=df_ffp_rollout, right=y_pred_rev_rollout,how=\"outer\", on=\"ID\")"
   ]
  },
  {
   "attachments": {},
   "cell_type": "markdown",
   "metadata": {},
   "source": [
    "### Second Step\n",
    "Choosing a model\n",
    "\n",
    "In order to predict the ```Buyer flag``` of the ffp table, we will use the merged tables.\n",
    "The problem: Some rows contain the rating value and some dont. To solve this, we will build model that is made out of two different models. One will work on the fpp table and one will work on the merged table. Predicted value will be chosen from one of the two results\n",
    "\n",
    "#### Model 1 - Clients that have reviews \n",
    "Clear all ```Nan``` values from the table"
   ]
  },
  {
   "cell_type": "code",
   "execution_count": 7,
   "metadata": {},
   "outputs": [],
   "source": [
    "df_model2_train_both = merged_ffp_train[~merged_ffp_train[\"Rating\"].isna()]"
   ]
  },
  {
   "attachments": {},
   "cell_type": "markdown",
   "metadata": {},
   "source": [
    "### Testing different models\n",
    "We will try two different models and two feature selection methods:"
   ]
  },
  {
   "cell_type": "code",
   "execution_count": 8,
   "metadata": {},
   "outputs": [],
   "source": [
    "# Strip ID and label\n",
    "features = df_model2_train_both.drop([\"BUYER_FLAG\",\"ID\"], axis=1)\n",
    "# Extract the label column\n",
    "label = df_model2_train_both[\"BUYER_FLAG\"]"
   ]
  },
  {
   "attachments": {},
   "cell_type": "markdown",
   "metadata": {},
   "source": [
    "##### Feature selection methods\n",
    "- One uses a correlation matrix to pick the most corralated features with the label.\n",
    "- The second uses the function ```SelectPercentile```"
   ]
  },
  {
   "cell_type": "code",
   "execution_count": 9,
   "metadata": {},
   "outputs": [],
   "source": [
    "def select_features_by_corr(data, treshold):\n",
    "    mat = data.corr().drop([\"BUYER_FLAG\",\"ID\"], axis=0)\n",
    "    mat = mat[abs(mat[\"BUYER_FLAG\"]) > treshold]\n",
    "    return list(mat.index)"
   ]
  },
  {
   "cell_type": "code",
   "execution_count": 10,
   "metadata": {},
   "outputs": [],
   "source": [
    "from sklearn.feature_selection import SelectPercentile\n",
    "\n",
    "def select_features_by_SelecPer(features, lable, p):\n",
    "    selector = SelectPercentile(percentile=p)\n",
    "    selector.fit_transform(features, label)\n",
    "    return selector.get_feature_names_out()"
   ]
  },
  {
   "attachments": {},
   "cell_type": "markdown",
   "metadata": {},
   "source": [
    "Studying the label properties"
   ]
  },
  {
   "cell_type": "code",
   "execution_count": 11,
   "metadata": {},
   "outputs": [
    {
     "name": "stdout",
     "output_type": "stream",
     "text": [
      "Minimum corrlation value with 'BUYER_FLAG': 0.0031826178888089756\n",
      "Maximum corrlation value with 'BUYER_FLAG': 0.560140516762669\n"
     ]
    }
   ],
   "source": [
    "data = df_model2_train_both.iloc[:,1:] # Get rid of ID col\n",
    "\n",
    "mat = data.corr().drop(\"BUYER_FLAG\", axis=0)\n",
    "mat[\"BUYER_FLAG\"] = abs(mat[\"BUYER_FLAG\"])\n",
    "print(f\"Minimum corrlation value with 'BUYER_FLAG': {mat.describe()['BUYER_FLAG'].loc['min']}\")\n",
    "print(f\"Maximum corrlation value with 'BUYER_FLAG': {mat.describe()['BUYER_FLAG'].loc['max']}\")"
   ]
  },
  {
   "attachments": {},
   "cell_type": "markdown",
   "metadata": {},
   "source": [
    "##### Model general wrapper function\n",
    "In order to simplify the code. We built a wrapper for the process of training the picking the best model.\n",
    "* XGBoost\n",
    "* RandomForest"
   ]
  },
  {
   "cell_type": "code",
   "execution_count": 12,
   "metadata": {},
   "outputs": [],
   "source": [
    "depth_range = range(1, 10, 1)\n",
    "# depth_range = range(1, 2, 1)\n",
    "\n",
    "def get_best_xgboost(features, label):\n",
    "    \n",
    "    parameters = {'score': 0,\n",
    "                  'features': [],\n",
    "                  'model': [],\n",
    "                  'depth': -1\n",
    "                  }        \n",
    "    \n",
    "    x_train, x_test, y_train, y_test = train_test_split(features, label, test_size=0.2, random_state=1)\n",
    "\n",
    "    for d in depth_range:\n",
    "        classes_weights = class_weight.compute_sample_weight(\n",
    "            class_weight='balanced',\n",
    "            y=y_train\n",
    "        )\n",
    "\n",
    "        xgbclf = xgb.XGBClassifier(max_depth=d, seed=2)\n",
    "        xgbclf.fit(x_train, y_train, sample_weight=classes_weights)\n",
    "        y_pred = xgbclf.predict(x_test)\n",
    "        score = f1_score(y_test, y_pred)\n",
    "                \n",
    "        if score > parameters['score']:\n",
    "            parameters['score'] = score\n",
    "            parameters['model'] = xgbclf\n",
    "            parameters['depth'] = d\n",
    "            #st = f\"The best XGBoost model...\\nHas a treshold of {treshold}\\nUses {len(selected_features)} features\\nHas a model depth of {d}\\nand an F1 score of {best_score}\"\n",
    "            #st += f\"\\nFeatures selected: {best_features}\"\n",
    "            \n",
    "    return parameters"
   ]
  },
  {
   "cell_type": "code",
   "execution_count": 13,
   "metadata": {},
   "outputs": [],
   "source": [
    "from sklearn.ensemble import RandomForestClassifier\n",
    "\n",
    "estimators_range = range(25, 175, 1)\n",
    "criterion_type = [\"gini\", \"entropy\", \"log_loss\"]\n",
    "mdepth_range = range(1, 21, 1)\n",
    "\n",
    "# estimators_range = range(25, 30, 1)\n",
    "# criterion_type = [\"gini\"]\n",
    "# mdepth_range = range(1, 3, 1)\n",
    "\n",
    "def get_best_rf(features, label):\n",
    "\n",
    "    parameters = {'score': 0,\n",
    "                  'features': [],\n",
    "                  'model': [],\n",
    "                  'n_estimators': -1\n",
    "                } \n",
    "    \n",
    "    x_train, x_test, y_train, y_test = train_test_split(features, label, test_size=0.2, random_state=1)\n",
    "    \n",
    "    for n_e in estimators_range:\n",
    "        for criterion in criterion_type:\n",
    "            for max_depth in mdepth_range:\n",
    "        \n",
    "                rf = RandomForestClassifier(n_estimators=n_e,\n",
    "                                            criterion=criterion,\n",
    "                                            max_depth=max_depth,\n",
    "                                            class_weight='balanced')\n",
    "                rf.fit(x_train, y_train)\n",
    "                y_pred = rf.predict(x_test)\n",
    "                score = f1_score(y_test, y_pred)\n",
    "\n",
    "                if score > parameters['score']:\n",
    "                    parameters['score'] = score\n",
    "                    parameters['model'] = rf\n",
    "                    parameters['n_estimators'] = n_e\n",
    "                    parameters['criterion'] = criterion\n",
    "                    parameters['max_depth'] = max_depth\n",
    "            \n",
    "    return parameters    "
   ]
  },
  {
   "cell_type": "code",
   "execution_count": 14,
   "metadata": {},
   "outputs": [],
   "source": [
    "def show_output(params):\n",
    "    st = f\"{50*'~'}\\n\"\n",
    "    st += f\"The Model is {type(params['model'])}.\\n\"\n",
    "    st += f\"The number of features picked is {len(params['features'])}.\\n\"\n",
    "    \n",
    "    if \"depth\" in params.keys():\n",
    "        st += f\"The depth selected is {params['depth']}\\n\"\n",
    "\n",
    "    if \"n_estimators\" in params.keys():\n",
    "        st += f\"The number of estimators picked is {params['n_estimators']}\\n.\"\n",
    "\n",
    "    if \"percentile\" in params.keys():\n",
    "        st += f\"The percentile value is {params['percentile']}.\\n\"\n",
    "\n",
    "    if \"treshold\" in params.keys():\n",
    "        st += f\"The treshold chosen is {params['treshold']}.\\n\"\n",
    "\n",
    "    if 'criterion' in params.keys():\n",
    "        st += f\"The criterion chosen is {params['criterion']}.\\n\"\n",
    "    \n",
    "    if 'max_depth' in params.keys():\n",
    "        st += f\"The max_depth chosen is {params['max_depth']}.\\n\"\n",
    "    \n",
    "    st += f\"The F1 score is {params['score']}.\\n\"\n",
    "    st += f\"{50*'~'}\"\n",
    "    \n",
    "    print(st)"
   ]
  },
  {
   "attachments": {},
   "cell_type": "markdown",
   "metadata": {},
   "source": [
    "We now the combinations of the model with the feature selection functions:\n",
    "\n",
    "* xgboost and select by corrlation"
   ]
  },
  {
   "cell_type": "code",
   "execution_count": 16,
   "metadata": {},
   "outputs": [
    {
     "name": "stderr",
     "output_type": "stream",
     "text": [
      "100%|██████████| 499/499 [00:10<00:00, 46.12it/s] "
     ]
    },
    {
     "name": "stdout",
     "output_type": "stream",
     "text": [
      "~~~~~~~~~~~~~~~~~~~~~~~~~~~~~~~~~~~~~~~~~~~~~~~~~~\n",
      "The Model is <class 'xgboost.sklearn.XGBClassifier'>.\n",
      "The number of features picked is 10.\n",
      "The depth selected is 2\n",
      "The treshold chosen is 0.027.\n",
      "The F1 score is 0.6382978723404256\n",
      ".~~~~~~~~~~~~~~~~~~~~~~~~~~~~~~~~~~~~~~~~~~~~~~~~~~\n"
     ]
    },
    {
     "name": "stderr",
     "output_type": "stream",
     "text": [
      "\n"
     ]
    }
   ],
   "source": [
    "prev = -1\n",
    "params = {}\n",
    "best_params = {\"score\": 0}\n",
    "\n",
    "for i in tqdm(range(1, 500, 1)):\n",
    "    treshold = i / 1000\n",
    "    selected = select_features_by_corr(df_model2_train_both, treshold)\n",
    "\n",
    "    if prev == len(selected):\n",
    "        continue\n",
    "    prev = len(selected)\n",
    "\n",
    "    params = get_best_xgboost(features[selected], label)\n",
    "    if params['score'] > best_params['score']:\n",
    "        best_params = params\n",
    "        best_params['treshold'] = treshold\n",
    "        best_params['features'] = selected\n",
    "        \n",
    "params1_xgb_corr = best_params\n",
    "show_output(params1_xgb_corr)"
   ]
  },
  {
   "attachments": {},
   "cell_type": "markdown",
   "metadata": {},
   "source": [
    "xgboost and select by percentile"
   ]
  },
  {
   "cell_type": "code",
   "execution_count": 17,
   "metadata": {},
   "outputs": [
    {
     "name": "stderr",
     "output_type": "stream",
     "text": [
      "100%|██████████| 100/100 [00:11<00:00,  8.57it/s]"
     ]
    },
    {
     "name": "stdout",
     "output_type": "stream",
     "text": [
      "~~~~~~~~~~~~~~~~~~~~~~~~~~~~~~~~~~~~~~~~~~~~~~~~~~\n",
      "The Model is <class 'xgboost.sklearn.XGBClassifier'>.\n",
      "The number of features picked is 10.\n",
      "The depth selected is 2\n",
      "The percentile value is 43.\n",
      "The F1 score is 0.6382978723404256\n",
      ".~~~~~~~~~~~~~~~~~~~~~~~~~~~~~~~~~~~~~~~~~~~~~~~~~~\n"
     ]
    },
    {
     "name": "stderr",
     "output_type": "stream",
     "text": [
      "\n"
     ]
    }
   ],
   "source": [
    "prev = -1\n",
    "params = {}\n",
    "best_params = {\"score\": 0}\n",
    "\n",
    "for p in tqdm(range(1, 101, 1)):\n",
    "    selected = select_features_by_SelecPer(features, label, p)\n",
    "\n",
    "    if prev == len(selected):\n",
    "        continue\n",
    "    prev = len(selected)\n",
    "\n",
    "    params = get_best_xgboost(features[selected], label)\n",
    "    if params['score'] > best_params['score']:\n",
    "        best_params = params\n",
    "        best_params['percentile'] = p\n",
    "        best_params['features'] = selected\n",
    "\n",
    "params1_xgb_per = best_params\n",
    "show_output(params1_xgb_per)"
   ]
  },
  {
   "attachments": {},
   "cell_type": "markdown",
   "metadata": {},
   "source": [
    "RandomForest and feature selection with correlation"
   ]
  },
  {
   "cell_type": "code",
   "execution_count": 18,
   "metadata": {},
   "outputs": [
    {
     "name": "stderr",
     "output_type": "stream",
     "text": [
      "100%|██████████| 499/499 [7:00:07<00:00, 50.52s/it]    "
     ]
    },
    {
     "name": "stdout",
     "output_type": "stream",
     "text": [
      "~~~~~~~~~~~~~~~~~~~~~~~~~~~~~~~~~~~~~~~~~~~~~~~~~~\n",
      "The Model is <class 'sklearn.ensemble._forest.RandomForestClassifier'>.\n",
      "The number of features picked is 13.\n",
      "The treshold chosen is 0.021.\n",
      "The criterion chosen is log_loss.\n",
      "The max_depth chosen is 14.\n",
      "The F1 score is 0.6666666666666667\n",
      ".~~~~~~~~~~~~~~~~~~~~~~~~~~~~~~~~~~~~~~~~~~~~~~~~~~\n"
     ]
    },
    {
     "name": "stderr",
     "output_type": "stream",
     "text": [
      "\n"
     ]
    }
   ],
   "source": [
    "prev = -1\n",
    "params = {}\n",
    "best_params = {\"score\": 0}\n",
    "\n",
    "for i in tqdm(range(1, 500, 1)):\n",
    "    treshold = i / 1000\n",
    "    selected = select_features_by_corr(df_model2_train_both, treshold)\n",
    "\n",
    "    if prev == len(selected):\n",
    "        continue\n",
    "    prev = len(selected)\n",
    "\n",
    "    params = get_best_rf(features[selected], label)\n",
    "    if params['score'] > best_params['score']:\n",
    "        best_params = params\n",
    "        best_params['treshold'] = treshold\n",
    "        best_params['features'] = selected\n",
    "\n",
    "params1_rf_corr = best_params\n",
    "show_output(params1_rf_corr)"
   ]
  },
  {
   "attachments": {},
   "cell_type": "markdown",
   "metadata": {},
   "source": [
    "RandomForest and feature selection with percentile"
   ]
  },
  {
   "cell_type": "code",
   "execution_count": 19,
   "metadata": {},
   "outputs": [
    {
     "name": "stderr",
     "output_type": "stream",
     "text": [
      "100%|██████████| 100/100 [8:31:30<00:00, 306.90s/it] "
     ]
    },
    {
     "name": "stdout",
     "output_type": "stream",
     "text": [
      "~~~~~~~~~~~~~~~~~~~~~~~~~~~~~~~~~~~~~~~~~~~~~~~~~~\n",
      "The Model is <class 'sklearn.ensemble._forest.RandomForestClassifier'>.\n",
      "The number of features picked is 10.\n",
      "The percentile value is 43.\n",
      "The criterion chosen is gini.\n",
      "The max_depth chosen is 12.\n",
      "The F1 score is 0.6629834254143646\n",
      ".~~~~~~~~~~~~~~~~~~~~~~~~~~~~~~~~~~~~~~~~~~~~~~~~~~\n"
     ]
    },
    {
     "name": "stderr",
     "output_type": "stream",
     "text": [
      "\n"
     ]
    }
   ],
   "source": [
    "prev = -1\n",
    "params = {}\n",
    "best_params = {\"score\": 0}\n",
    "\n",
    "for p in tqdm(range(1, 101, 1)):\n",
    "    selected = select_features_by_SelecPer(features, label, p)\n",
    "\n",
    "    if prev == len(selected):\n",
    "        continue\n",
    "    prev = len(selected)\n",
    "\n",
    "    params = get_best_rf(features[selected], label)\n",
    "    if params['score'] > best_params['score']:\n",
    "        best_params = params\n",
    "        best_params['percentile'] = p\n",
    "        best_params['features'] = selected\n",
    "\n",
    "params1_rf_per = best_params\n",
    "show_output(params1_rf_per)"
   ]
  },
  {
   "attachments": {},
   "cell_type": "markdown",
   "metadata": {},
   "source": [
    "Picking the best model:"
   ]
  },
  {
   "cell_type": "code",
   "execution_count": 26,
   "metadata": {},
   "outputs": [],
   "source": [
    "model1 = params1_rf_corr"
   ]
  },
  {
   "attachments": {},
   "cell_type": "markdown",
   "metadata": {},
   "source": [
    "### Model 2 - Table containing ffp data only\n",
    "\n",
    "Need to rerun models...."
   ]
  },
  {
   "cell_type": "code",
   "execution_count": 21,
   "metadata": {},
   "outputs": [
    {
     "data": {
      "text/html": [
       "<div>\n",
       "<style scoped>\n",
       "    .dataframe tbody tr th:only-of-type {\n",
       "        vertical-align: middle;\n",
       "    }\n",
       "\n",
       "    .dataframe tbody tr th {\n",
       "        vertical-align: top;\n",
       "    }\n",
       "\n",
       "    .dataframe thead th {\n",
       "        text-align: right;\n",
       "    }\n",
       "</style>\n",
       "<table border=\"1\" class=\"dataframe\">\n",
       "  <thead>\n",
       "    <tr style=\"text-align: right;\">\n",
       "      <th></th>\n",
       "      <th>ID</th>\n",
       "      <th>CUSTOMER_GRADE</th>\n",
       "      <th>STATUS_PANTINUM</th>\n",
       "      <th>STATUS_GOLD</th>\n",
       "      <th>STATUS_SILVER</th>\n",
       "      <th>NUM_DEAL</th>\n",
       "      <th>LAST_DEAL</th>\n",
       "      <th>ADVANCE_PURCHASE</th>\n",
       "      <th>FARE_L_Y1</th>\n",
       "      <th>FARE_L_Y2</th>\n",
       "      <th>...</th>\n",
       "      <th>POINTS_L_Y1</th>\n",
       "      <th>POINTS_L_Y2</th>\n",
       "      <th>POINTS_L_Y3</th>\n",
       "      <th>POINTS_L_Y4</th>\n",
       "      <th>POINTS_L_Y5</th>\n",
       "      <th>COUPON_FLAG</th>\n",
       "      <th>CANCEL_FLAG</th>\n",
       "      <th>CREDIT_FLAG</th>\n",
       "      <th>RELATED_FLAG</th>\n",
       "      <th>BUYER_FLAG</th>\n",
       "    </tr>\n",
       "  </thead>\n",
       "  <tbody>\n",
       "    <tr>\n",
       "      <th>0</th>\n",
       "      <td>1</td>\n",
       "      <td>11.545711</td>\n",
       "      <td>0</td>\n",
       "      <td>0</td>\n",
       "      <td>0</td>\n",
       "      <td>3</td>\n",
       "      <td>29.3</td>\n",
       "      <td>24</td>\n",
       "      <td>82.7</td>\n",
       "      <td>92.7</td>\n",
       "      <td>...</td>\n",
       "      <td>71.3</td>\n",
       "      <td>60.7</td>\n",
       "      <td>98.1</td>\n",
       "      <td>81.6</td>\n",
       "      <td>78.6</td>\n",
       "      <td>0</td>\n",
       "      <td>0</td>\n",
       "      <td>0</td>\n",
       "      <td>0</td>\n",
       "      <td>0</td>\n",
       "    </tr>\n",
       "    <tr>\n",
       "      <th>1</th>\n",
       "      <td>2</td>\n",
       "      <td>9.493459</td>\n",
       "      <td>0</td>\n",
       "      <td>0</td>\n",
       "      <td>0</td>\n",
       "      <td>5</td>\n",
       "      <td>26.7</td>\n",
       "      <td>27</td>\n",
       "      <td>120.7</td>\n",
       "      <td>112.0</td>\n",
       "      <td>...</td>\n",
       "      <td>126.3</td>\n",
       "      <td>112.5</td>\n",
       "      <td>104.6</td>\n",
       "      <td>110.9</td>\n",
       "      <td>137.3</td>\n",
       "      <td>0</td>\n",
       "      <td>0</td>\n",
       "      <td>1</td>\n",
       "      <td>0</td>\n",
       "      <td>0</td>\n",
       "    </tr>\n",
       "    <tr>\n",
       "      <th>2</th>\n",
       "      <td>3</td>\n",
       "      <td>3.882457</td>\n",
       "      <td>0</td>\n",
       "      <td>0</td>\n",
       "      <td>0</td>\n",
       "      <td>4</td>\n",
       "      <td>26.7</td>\n",
       "      <td>9</td>\n",
       "      <td>97.3</td>\n",
       "      <td>92.0</td>\n",
       "      <td>...</td>\n",
       "      <td>107.7</td>\n",
       "      <td>120.7</td>\n",
       "      <td>62.5</td>\n",
       "      <td>63.9</td>\n",
       "      <td>92.9</td>\n",
       "      <td>0</td>\n",
       "      <td>0</td>\n",
       "      <td>0</td>\n",
       "      <td>0</td>\n",
       "      <td>0</td>\n",
       "    </tr>\n",
       "    <tr>\n",
       "      <th>3</th>\n",
       "      <td>4</td>\n",
       "      <td>9.511699</td>\n",
       "      <td>0</td>\n",
       "      <td>0</td>\n",
       "      <td>0</td>\n",
       "      <td>2</td>\n",
       "      <td>61.3</td>\n",
       "      <td>24</td>\n",
       "      <td>123.3</td>\n",
       "      <td>130.7</td>\n",
       "      <td>...</td>\n",
       "      <td>129.5</td>\n",
       "      <td>132.1</td>\n",
       "      <td>135.1</td>\n",
       "      <td>104.1</td>\n",
       "      <td>118.2</td>\n",
       "      <td>0</td>\n",
       "      <td>0</td>\n",
       "      <td>0</td>\n",
       "      <td>0</td>\n",
       "      <td>0</td>\n",
       "    </tr>\n",
       "    <tr>\n",
       "      <th>4</th>\n",
       "      <td>5</td>\n",
       "      <td>14.798792</td>\n",
       "      <td>0</td>\n",
       "      <td>0</td>\n",
       "      <td>0</td>\n",
       "      <td>4</td>\n",
       "      <td>37.3</td>\n",
       "      <td>20</td>\n",
       "      <td>136.0</td>\n",
       "      <td>135.3</td>\n",
       "      <td>...</td>\n",
       "      <td>145.7</td>\n",
       "      <td>124.5</td>\n",
       "      <td>122.7</td>\n",
       "      <td>140.1</td>\n",
       "      <td>130.9</td>\n",
       "      <td>0</td>\n",
       "      <td>0</td>\n",
       "      <td>0</td>\n",
       "      <td>0</td>\n",
       "      <td>0</td>\n",
       "    </tr>\n",
       "    <tr>\n",
       "      <th>...</th>\n",
       "      <td>...</td>\n",
       "      <td>...</td>\n",
       "      <td>...</td>\n",
       "      <td>...</td>\n",
       "      <td>...</td>\n",
       "      <td>...</td>\n",
       "      <td>...</td>\n",
       "      <td>...</td>\n",
       "      <td>...</td>\n",
       "      <td>...</td>\n",
       "      <td>...</td>\n",
       "      <td>...</td>\n",
       "      <td>...</td>\n",
       "      <td>...</td>\n",
       "      <td>...</td>\n",
       "      <td>...</td>\n",
       "      <td>...</td>\n",
       "      <td>...</td>\n",
       "      <td>...</td>\n",
       "      <td>...</td>\n",
       "      <td>...</td>\n",
       "    </tr>\n",
       "    <tr>\n",
       "      <th>29995</th>\n",
       "      <td>29996</td>\n",
       "      <td>8.993560</td>\n",
       "      <td>0</td>\n",
       "      <td>0</td>\n",
       "      <td>0</td>\n",
       "      <td>6</td>\n",
       "      <td>16.0</td>\n",
       "      <td>25</td>\n",
       "      <td>98.7</td>\n",
       "      <td>92.7</td>\n",
       "      <td>...</td>\n",
       "      <td>57.2</td>\n",
       "      <td>89.1</td>\n",
       "      <td>83.5</td>\n",
       "      <td>56.1</td>\n",
       "      <td>79.8</td>\n",
       "      <td>0</td>\n",
       "      <td>0</td>\n",
       "      <td>0</td>\n",
       "      <td>0</td>\n",
       "      <td>0</td>\n",
       "    </tr>\n",
       "    <tr>\n",
       "      <th>29996</th>\n",
       "      <td>29997</td>\n",
       "      <td>9.809759</td>\n",
       "      <td>0</td>\n",
       "      <td>1</td>\n",
       "      <td>0</td>\n",
       "      <td>2</td>\n",
       "      <td>117.3</td>\n",
       "      <td>20</td>\n",
       "      <td>228.0</td>\n",
       "      <td>233.3</td>\n",
       "      <td>...</td>\n",
       "      <td>178.9</td>\n",
       "      <td>215.5</td>\n",
       "      <td>214.1</td>\n",
       "      <td>216.7</td>\n",
       "      <td>232.6</td>\n",
       "      <td>0</td>\n",
       "      <td>0</td>\n",
       "      <td>0</td>\n",
       "      <td>0</td>\n",
       "      <td>0</td>\n",
       "    </tr>\n",
       "    <tr>\n",
       "      <th>29997</th>\n",
       "      <td>29998</td>\n",
       "      <td>11.226843</td>\n",
       "      <td>0</td>\n",
       "      <td>0</td>\n",
       "      <td>0</td>\n",
       "      <td>4</td>\n",
       "      <td>24.0</td>\n",
       "      <td>21</td>\n",
       "      <td>84.7</td>\n",
       "      <td>87.3</td>\n",
       "      <td>...</td>\n",
       "      <td>53.0</td>\n",
       "      <td>83.4</td>\n",
       "      <td>81.3</td>\n",
       "      <td>73.9</td>\n",
       "      <td>90.6</td>\n",
       "      <td>0</td>\n",
       "      <td>0</td>\n",
       "      <td>0</td>\n",
       "      <td>0</td>\n",
       "      <td>0</td>\n",
       "    </tr>\n",
       "    <tr>\n",
       "      <th>29998</th>\n",
       "      <td>29999</td>\n",
       "      <td>12.926248</td>\n",
       "      <td>0</td>\n",
       "      <td>0</td>\n",
       "      <td>0</td>\n",
       "      <td>3</td>\n",
       "      <td>42.7</td>\n",
       "      <td>20</td>\n",
       "      <td>121.3</td>\n",
       "      <td>126.7</td>\n",
       "      <td>...</td>\n",
       "      <td>98.9</td>\n",
       "      <td>80.0</td>\n",
       "      <td>89.0</td>\n",
       "      <td>121.5</td>\n",
       "      <td>158.5</td>\n",
       "      <td>0</td>\n",
       "      <td>0</td>\n",
       "      <td>0</td>\n",
       "      <td>0</td>\n",
       "      <td>0</td>\n",
       "    </tr>\n",
       "    <tr>\n",
       "      <th>29999</th>\n",
       "      <td>30000</td>\n",
       "      <td>14.157538</td>\n",
       "      <td>0</td>\n",
       "      <td>0</td>\n",
       "      <td>0</td>\n",
       "      <td>6</td>\n",
       "      <td>29.3</td>\n",
       "      <td>22</td>\n",
       "      <td>167.3</td>\n",
       "      <td>166.0</td>\n",
       "      <td>...</td>\n",
       "      <td>150.3</td>\n",
       "      <td>127.7</td>\n",
       "      <td>126.1</td>\n",
       "      <td>135.1</td>\n",
       "      <td>113.7</td>\n",
       "      <td>1</td>\n",
       "      <td>0</td>\n",
       "      <td>0</td>\n",
       "      <td>0</td>\n",
       "      <td>1</td>\n",
       "    </tr>\n",
       "  </tbody>\n",
       "</table>\n",
       "<p>30000 rows × 23 columns</p>\n",
       "</div>"
      ],
      "text/plain": [
       "          ID  CUSTOMER_GRADE  STATUS_PANTINUM  STATUS_GOLD  STATUS_SILVER  \\\n",
       "0          1       11.545711                0            0              0   \n",
       "1          2        9.493459                0            0              0   \n",
       "2          3        3.882457                0            0              0   \n",
       "3          4        9.511699                0            0              0   \n",
       "4          5       14.798792                0            0              0   \n",
       "...      ...             ...              ...          ...            ...   \n",
       "29995  29996        8.993560                0            0              0   \n",
       "29996  29997        9.809759                0            1              0   \n",
       "29997  29998       11.226843                0            0              0   \n",
       "29998  29999       12.926248                0            0              0   \n",
       "29999  30000       14.157538                0            0              0   \n",
       "\n",
       "       NUM_DEAL  LAST_DEAL  ADVANCE_PURCHASE  FARE_L_Y1  FARE_L_Y2  ...  \\\n",
       "0             3       29.3                24       82.7       92.7  ...   \n",
       "1             5       26.7                27      120.7      112.0  ...   \n",
       "2             4       26.7                 9       97.3       92.0  ...   \n",
       "3             2       61.3                24      123.3      130.7  ...   \n",
       "4             4       37.3                20      136.0      135.3  ...   \n",
       "...         ...        ...               ...        ...        ...  ...   \n",
       "29995         6       16.0                25       98.7       92.7  ...   \n",
       "29996         2      117.3                20      228.0      233.3  ...   \n",
       "29997         4       24.0                21       84.7       87.3  ...   \n",
       "29998         3       42.7                20      121.3      126.7  ...   \n",
       "29999         6       29.3                22      167.3      166.0  ...   \n",
       "\n",
       "       POINTS_L_Y1  POINTS_L_Y2  POINTS_L_Y3  POINTS_L_Y4  POINTS_L_Y5  \\\n",
       "0             71.3         60.7         98.1         81.6         78.6   \n",
       "1            126.3        112.5        104.6        110.9        137.3   \n",
       "2            107.7        120.7         62.5         63.9         92.9   \n",
       "3            129.5        132.1        135.1        104.1        118.2   \n",
       "4            145.7        124.5        122.7        140.1        130.9   \n",
       "...            ...          ...          ...          ...          ...   \n",
       "29995         57.2         89.1         83.5         56.1         79.8   \n",
       "29996        178.9        215.5        214.1        216.7        232.6   \n",
       "29997         53.0         83.4         81.3         73.9         90.6   \n",
       "29998         98.9         80.0         89.0        121.5        158.5   \n",
       "29999        150.3        127.7        126.1        135.1        113.7   \n",
       "\n",
       "       COUPON_FLAG  CANCEL_FLAG  CREDIT_FLAG  RELATED_FLAG  BUYER_FLAG  \n",
       "0                0            0            0             0           0  \n",
       "1                0            0            1             0           0  \n",
       "2                0            0            0             0           0  \n",
       "3                0            0            0             0           0  \n",
       "4                0            0            0             0           0  \n",
       "...            ...          ...          ...           ...         ...  \n",
       "29995            0            0            0             0           0  \n",
       "29996            0            0            0             0           0  \n",
       "29997            0            0            0             0           0  \n",
       "29998            0            0            0             0           0  \n",
       "29999            1            0            0             0           1  \n",
       "\n",
       "[30000 rows x 23 columns]"
      ]
     },
     "execution_count": 21,
     "metadata": {},
     "output_type": "execute_result"
    }
   ],
   "source": [
    "df_ffp_train"
   ]
  },
  {
   "cell_type": "code",
   "execution_count": 22,
   "metadata": {},
   "outputs": [],
   "source": [
    "features = df_ffp_train.drop([\"ID\", \"BUYER_FLAG\"], axis=1)\n",
    "label = df_ffp_train[\"BUYER_FLAG\"]"
   ]
  },
  {
   "cell_type": "code",
   "execution_count": 23,
   "metadata": {},
   "outputs": [
    {
     "name": "stderr",
     "output_type": "stream",
     "text": [
      "100%|██████████| 499/499 [00:52<00:00,  9.58it/s]"
     ]
    },
    {
     "name": "stdout",
     "output_type": "stream",
     "text": [
      "~~~~~~~~~~~~~~~~~~~~~~~~~~~~~~~~~~~~~~~~~~~~~~~~~~\n",
      "The Model is <class 'xgboost.sklearn.XGBClassifier'>.\n",
      "The number of features picked is 5.\n",
      "The depth selected is 4\n",
      "The treshold chosen is 0.068.\n",
      "The F1 score is 0.3317647058823529\n",
      ".~~~~~~~~~~~~~~~~~~~~~~~~~~~~~~~~~~~~~~~~~~~~~~~~~~\n"
     ]
    },
    {
     "name": "stderr",
     "output_type": "stream",
     "text": [
      "\n"
     ]
    }
   ],
   "source": [
    "prev = -1\n",
    "params = {}\n",
    "best_params = {\"score\": 0}\n",
    "\n",
    "for i in tqdm(range(1, 500, 1)):\n",
    "    treshold = i / 1000\n",
    "    selected = select_features_by_corr(df_ffp_train,treshold)\n",
    "\n",
    "    if prev == len(selected) or len(selected) == 0:\n",
    "        continue\n",
    "    prev = len(selected)\n",
    "\n",
    "    params = get_best_xgboost(features[selected], label)\n",
    "    if params['score'] > best_params['score']:\n",
    "        best_params = params\n",
    "        best_params['treshold'] = treshold\n",
    "        best_params['features'] = selected\n",
    "\n",
    "params2_xgb_corr = best_params\n",
    "show_output(params2_xgb_corr)"
   ]
  },
  {
   "cell_type": "code",
   "execution_count": 24,
   "metadata": {},
   "outputs": [
    {
     "name": "stderr",
     "output_type": "stream",
     "text": [
      "100%|██████████| 100/100 [01:28<00:00,  1.13it/s]"
     ]
    },
    {
     "name": "stdout",
     "output_type": "stream",
     "text": [
      "~~~~~~~~~~~~~~~~~~~~~~~~~~~~~~~~~~~~~~~~~~~~~~~~~~\n",
      "The Model is <class 'xgboost.sklearn.XGBClassifier'>.\n",
      "The number of features picked is 5.\n",
      "The depth selected is 4\n",
      "The percentile value is 21.\n",
      "The F1 score is 0.3317647058823529\n",
      ".~~~~~~~~~~~~~~~~~~~~~~~~~~~~~~~~~~~~~~~~~~~~~~~~~~\n"
     ]
    },
    {
     "name": "stderr",
     "output_type": "stream",
     "text": [
      "\n"
     ]
    }
   ],
   "source": [
    "prev = -1\n",
    "params = {}\n",
    "best_params = {\"score\": 0}\n",
    "\n",
    "for p in tqdm(range(1, 101, 1)):\n",
    "    selected = select_features_by_SelecPer(features, label, p)\n",
    "\n",
    "    if prev == len(selected) or len(selected) == 0:\n",
    "        continue\n",
    "    prev = len(selected)\n",
    "\n",
    "    params = get_best_xgboost(features[selected], label)\n",
    "    if params['score'] > best_params['score']:\n",
    "        best_params = params\n",
    "        best_params['percentile'] = p\n",
    "        best_params['features'] = selected\n",
    "\n",
    "params2_xgb_per = best_params\n",
    "show_output(params2_xgb_per)"
   ]
  },
  {
   "cell_type": "code",
   "execution_count": 25,
   "metadata": {},
   "outputs": [
    {
     "name": "stderr",
     "output_type": "stream",
     "text": [
      "  0%|          | 0/499 [4:22:51<?, ?it/s]\n"
     ]
    },
    {
     "ename": "KeyboardInterrupt",
     "evalue": "",
     "output_type": "error",
     "traceback": [
      "\u001b[1;31m---------------------------------------------------------------------------\u001b[0m",
      "\u001b[1;31mKeyboardInterrupt\u001b[0m                         Traceback (most recent call last)",
      "Cell \u001b[1;32mIn[25], line 13\u001b[0m\n\u001b[0;32m     10\u001b[0m     \u001b[39mcontinue\u001b[39;00m\n\u001b[0;32m     11\u001b[0m prev \u001b[39m=\u001b[39m \u001b[39mlen\u001b[39m(selected)\n\u001b[1;32m---> 13\u001b[0m params \u001b[39m=\u001b[39m get_best_rf(features[selected], label)\n\u001b[0;32m     14\u001b[0m \u001b[39mif\u001b[39;00m params[\u001b[39m'\u001b[39m\u001b[39mscore\u001b[39m\u001b[39m'\u001b[39m] \u001b[39m>\u001b[39m best_params[\u001b[39m'\u001b[39m\u001b[39mscore\u001b[39m\u001b[39m'\u001b[39m]:\n\u001b[0;32m     15\u001b[0m     best_params \u001b[39m=\u001b[39m params\n",
      "Cell \u001b[1;32mIn[13], line 29\u001b[0m, in \u001b[0;36mget_best_rf\u001b[1;34m(features, label)\u001b[0m\n\u001b[0;32m     23\u001b[0m \u001b[39mfor\u001b[39;00m max_depth \u001b[39min\u001b[39;00m mdepth_range:\n\u001b[0;32m     25\u001b[0m     rf \u001b[39m=\u001b[39m RandomForestClassifier(n_estimators\u001b[39m=\u001b[39mn_e,\n\u001b[0;32m     26\u001b[0m                                 criterion\u001b[39m=\u001b[39mcriterion,\n\u001b[0;32m     27\u001b[0m                                 max_depth\u001b[39m=\u001b[39mmax_depth,\n\u001b[0;32m     28\u001b[0m                                 class_weight\u001b[39m=\u001b[39m\u001b[39m'\u001b[39m\u001b[39mbalanced\u001b[39m\u001b[39m'\u001b[39m)\n\u001b[1;32m---> 29\u001b[0m     rf\u001b[39m.\u001b[39;49mfit(x_train, y_train)\n\u001b[0;32m     30\u001b[0m     y_pred \u001b[39m=\u001b[39m rf\u001b[39m.\u001b[39mpredict(x_test)\n\u001b[0;32m     31\u001b[0m     score \u001b[39m=\u001b[39m f1_score(y_test, y_pred)\n",
      "File \u001b[1;32mc:\\Users\\ofeks\\OneDrive\\תואר_שני\\שנה ב\\סמסטר א\\נושאים מתקדמים במדעי הנתונים למנהל עסקים\\temp_code\\venv\\lib\\site-packages\\sklearn\\ensemble\\_forest.py:473\u001b[0m, in \u001b[0;36mBaseForest.fit\u001b[1;34m(self, X, y, sample_weight)\u001b[0m\n\u001b[0;32m    462\u001b[0m trees \u001b[39m=\u001b[39m [\n\u001b[0;32m    463\u001b[0m     \u001b[39mself\u001b[39m\u001b[39m.\u001b[39m_make_estimator(append\u001b[39m=\u001b[39m\u001b[39mFalse\u001b[39;00m, random_state\u001b[39m=\u001b[39mrandom_state)\n\u001b[0;32m    464\u001b[0m     \u001b[39mfor\u001b[39;00m i \u001b[39min\u001b[39;00m \u001b[39mrange\u001b[39m(n_more_estimators)\n\u001b[0;32m    465\u001b[0m ]\n\u001b[0;32m    467\u001b[0m \u001b[39m# Parallel loop: we prefer the threading backend as the Cython code\u001b[39;00m\n\u001b[0;32m    468\u001b[0m \u001b[39m# for fitting the trees is internally releasing the Python GIL\u001b[39;00m\n\u001b[0;32m    469\u001b[0m \u001b[39m# making threading more efficient than multiprocessing in\u001b[39;00m\n\u001b[0;32m    470\u001b[0m \u001b[39m# that case. However, for joblib 0.12+ we respect any\u001b[39;00m\n\u001b[0;32m    471\u001b[0m \u001b[39m# parallel_backend contexts set at a higher level,\u001b[39;00m\n\u001b[0;32m    472\u001b[0m \u001b[39m# since correctness does not rely on using threads.\u001b[39;00m\n\u001b[1;32m--> 473\u001b[0m trees \u001b[39m=\u001b[39m Parallel(\n\u001b[0;32m    474\u001b[0m     n_jobs\u001b[39m=\u001b[39;49m\u001b[39mself\u001b[39;49m\u001b[39m.\u001b[39;49mn_jobs,\n\u001b[0;32m    475\u001b[0m     verbose\u001b[39m=\u001b[39;49m\u001b[39mself\u001b[39;49m\u001b[39m.\u001b[39;49mverbose,\n\u001b[0;32m    476\u001b[0m     prefer\u001b[39m=\u001b[39;49m\u001b[39m\"\u001b[39;49m\u001b[39mthreads\u001b[39;49m\u001b[39m\"\u001b[39;49m,\n\u001b[0;32m    477\u001b[0m )(\n\u001b[0;32m    478\u001b[0m     delayed(_parallel_build_trees)(\n\u001b[0;32m    479\u001b[0m         t,\n\u001b[0;32m    480\u001b[0m         \u001b[39mself\u001b[39;49m\u001b[39m.\u001b[39;49mbootstrap,\n\u001b[0;32m    481\u001b[0m         X,\n\u001b[0;32m    482\u001b[0m         y,\n\u001b[0;32m    483\u001b[0m         sample_weight,\n\u001b[0;32m    484\u001b[0m         i,\n\u001b[0;32m    485\u001b[0m         \u001b[39mlen\u001b[39;49m(trees),\n\u001b[0;32m    486\u001b[0m         verbose\u001b[39m=\u001b[39;49m\u001b[39mself\u001b[39;49m\u001b[39m.\u001b[39;49mverbose,\n\u001b[0;32m    487\u001b[0m         class_weight\u001b[39m=\u001b[39;49m\u001b[39mself\u001b[39;49m\u001b[39m.\u001b[39;49mclass_weight,\n\u001b[0;32m    488\u001b[0m         n_samples_bootstrap\u001b[39m=\u001b[39;49mn_samples_bootstrap,\n\u001b[0;32m    489\u001b[0m     )\n\u001b[0;32m    490\u001b[0m     \u001b[39mfor\u001b[39;49;00m i, t \u001b[39min\u001b[39;49;00m \u001b[39menumerate\u001b[39;49m(trees)\n\u001b[0;32m    491\u001b[0m )\n\u001b[0;32m    493\u001b[0m \u001b[39m# Collect newly grown trees\u001b[39;00m\n\u001b[0;32m    494\u001b[0m \u001b[39mself\u001b[39m\u001b[39m.\u001b[39mestimators_\u001b[39m.\u001b[39mextend(trees)\n",
      "File \u001b[1;32mc:\\Users\\ofeks\\OneDrive\\תואר_שני\\שנה ב\\סמסטר א\\נושאים מתקדמים במדעי הנתונים למנהל עסקים\\temp_code\\venv\\lib\\site-packages\\sklearn\\utils\\parallel.py:63\u001b[0m, in \u001b[0;36mParallel.__call__\u001b[1;34m(self, iterable)\u001b[0m\n\u001b[0;32m     58\u001b[0m config \u001b[39m=\u001b[39m get_config()\n\u001b[0;32m     59\u001b[0m iterable_with_config \u001b[39m=\u001b[39m (\n\u001b[0;32m     60\u001b[0m     (_with_config(delayed_func, config), args, kwargs)\n\u001b[0;32m     61\u001b[0m     \u001b[39mfor\u001b[39;00m delayed_func, args, kwargs \u001b[39min\u001b[39;00m iterable\n\u001b[0;32m     62\u001b[0m )\n\u001b[1;32m---> 63\u001b[0m \u001b[39mreturn\u001b[39;00m \u001b[39msuper\u001b[39;49m()\u001b[39m.\u001b[39;49m\u001b[39m__call__\u001b[39;49m(iterable_with_config)\n",
      "File \u001b[1;32mc:\\Users\\ofeks\\OneDrive\\תואר_שני\\שנה ב\\סמסטר א\\נושאים מתקדמים במדעי הנתונים למנהל עסקים\\temp_code\\venv\\lib\\site-packages\\joblib\\parallel.py:1088\u001b[0m, in \u001b[0;36mParallel.__call__\u001b[1;34m(self, iterable)\u001b[0m\n\u001b[0;32m   1085\u001b[0m \u001b[39mif\u001b[39;00m \u001b[39mself\u001b[39m\u001b[39m.\u001b[39mdispatch_one_batch(iterator):\n\u001b[0;32m   1086\u001b[0m     \u001b[39mself\u001b[39m\u001b[39m.\u001b[39m_iterating \u001b[39m=\u001b[39m \u001b[39mself\u001b[39m\u001b[39m.\u001b[39m_original_iterator \u001b[39mis\u001b[39;00m \u001b[39mnot\u001b[39;00m \u001b[39mNone\u001b[39;00m\n\u001b[1;32m-> 1088\u001b[0m \u001b[39mwhile\u001b[39;00m \u001b[39mself\u001b[39;49m\u001b[39m.\u001b[39;49mdispatch_one_batch(iterator):\n\u001b[0;32m   1089\u001b[0m     \u001b[39mpass\u001b[39;00m\n\u001b[0;32m   1091\u001b[0m \u001b[39mif\u001b[39;00m pre_dispatch \u001b[39m==\u001b[39m \u001b[39m\"\u001b[39m\u001b[39mall\u001b[39m\u001b[39m\"\u001b[39m \u001b[39mor\u001b[39;00m n_jobs \u001b[39m==\u001b[39m \u001b[39m1\u001b[39m:\n\u001b[0;32m   1092\u001b[0m     \u001b[39m# The iterable was consumed all at once by the above for loop.\u001b[39;00m\n\u001b[0;32m   1093\u001b[0m     \u001b[39m# No need to wait for async callbacks to trigger to\u001b[39;00m\n\u001b[0;32m   1094\u001b[0m     \u001b[39m# consumption.\u001b[39;00m\n",
      "File \u001b[1;32mc:\\Users\\ofeks\\OneDrive\\תואר_שני\\שנה ב\\סמסטר א\\נושאים מתקדמים במדעי הנתונים למנהל עסקים\\temp_code\\venv\\lib\\site-packages\\joblib\\parallel.py:901\u001b[0m, in \u001b[0;36mParallel.dispatch_one_batch\u001b[1;34m(self, iterator)\u001b[0m\n\u001b[0;32m    899\u001b[0m     \u001b[39mreturn\u001b[39;00m \u001b[39mFalse\u001b[39;00m\n\u001b[0;32m    900\u001b[0m \u001b[39melse\u001b[39;00m:\n\u001b[1;32m--> 901\u001b[0m     \u001b[39mself\u001b[39;49m\u001b[39m.\u001b[39;49m_dispatch(tasks)\n\u001b[0;32m    902\u001b[0m     \u001b[39mreturn\u001b[39;00m \u001b[39mTrue\u001b[39;00m\n",
      "File \u001b[1;32mc:\\Users\\ofeks\\OneDrive\\תואר_שני\\שנה ב\\סמסטר א\\נושאים מתקדמים במדעי הנתונים למנהל עסקים\\temp_code\\venv\\lib\\site-packages\\joblib\\parallel.py:819\u001b[0m, in \u001b[0;36mParallel._dispatch\u001b[1;34m(self, batch)\u001b[0m\n\u001b[0;32m    817\u001b[0m \u001b[39mwith\u001b[39;00m \u001b[39mself\u001b[39m\u001b[39m.\u001b[39m_lock:\n\u001b[0;32m    818\u001b[0m     job_idx \u001b[39m=\u001b[39m \u001b[39mlen\u001b[39m(\u001b[39mself\u001b[39m\u001b[39m.\u001b[39m_jobs)\n\u001b[1;32m--> 819\u001b[0m     job \u001b[39m=\u001b[39m \u001b[39mself\u001b[39;49m\u001b[39m.\u001b[39;49m_backend\u001b[39m.\u001b[39;49mapply_async(batch, callback\u001b[39m=\u001b[39;49mcb)\n\u001b[0;32m    820\u001b[0m     \u001b[39m# A job can complete so quickly than its callback is\u001b[39;00m\n\u001b[0;32m    821\u001b[0m     \u001b[39m# called before we get here, causing self._jobs to\u001b[39;00m\n\u001b[0;32m    822\u001b[0m     \u001b[39m# grow. To ensure correct results ordering, .insert is\u001b[39;00m\n\u001b[0;32m    823\u001b[0m     \u001b[39m# used (rather than .append) in the following line\u001b[39;00m\n\u001b[0;32m    824\u001b[0m     \u001b[39mself\u001b[39m\u001b[39m.\u001b[39m_jobs\u001b[39m.\u001b[39minsert(job_idx, job)\n",
      "File \u001b[1;32mc:\\Users\\ofeks\\OneDrive\\תואר_שני\\שנה ב\\סמסטר א\\נושאים מתקדמים במדעי הנתונים למנהל עסקים\\temp_code\\venv\\lib\\site-packages\\joblib\\_parallel_backends.py:208\u001b[0m, in \u001b[0;36mSequentialBackend.apply_async\u001b[1;34m(self, func, callback)\u001b[0m\n\u001b[0;32m    206\u001b[0m \u001b[39mdef\u001b[39;00m \u001b[39mapply_async\u001b[39m(\u001b[39mself\u001b[39m, func, callback\u001b[39m=\u001b[39m\u001b[39mNone\u001b[39;00m):\n\u001b[0;32m    207\u001b[0m \u001b[39m    \u001b[39m\u001b[39m\"\"\"Schedule a func to be run\"\"\"\u001b[39;00m\n\u001b[1;32m--> 208\u001b[0m     result \u001b[39m=\u001b[39m ImmediateResult(func)\n\u001b[0;32m    209\u001b[0m     \u001b[39mif\u001b[39;00m callback:\n\u001b[0;32m    210\u001b[0m         callback(result)\n",
      "File \u001b[1;32mc:\\Users\\ofeks\\OneDrive\\תואר_שני\\שנה ב\\סמסטר א\\נושאים מתקדמים במדעי הנתונים למנהל עסקים\\temp_code\\venv\\lib\\site-packages\\joblib\\_parallel_backends.py:597\u001b[0m, in \u001b[0;36mImmediateResult.__init__\u001b[1;34m(self, batch)\u001b[0m\n\u001b[0;32m    594\u001b[0m \u001b[39mdef\u001b[39;00m \u001b[39m__init__\u001b[39m(\u001b[39mself\u001b[39m, batch):\n\u001b[0;32m    595\u001b[0m     \u001b[39m# Don't delay the application, to avoid keeping the input\u001b[39;00m\n\u001b[0;32m    596\u001b[0m     \u001b[39m# arguments in memory\u001b[39;00m\n\u001b[1;32m--> 597\u001b[0m     \u001b[39mself\u001b[39m\u001b[39m.\u001b[39mresults \u001b[39m=\u001b[39m batch()\n",
      "File \u001b[1;32mc:\\Users\\ofeks\\OneDrive\\תואר_שני\\שנה ב\\סמסטר א\\נושאים מתקדמים במדעי הנתונים למנהל עסקים\\temp_code\\venv\\lib\\site-packages\\joblib\\parallel.py:288\u001b[0m, in \u001b[0;36mBatchedCalls.__call__\u001b[1;34m(self)\u001b[0m\n\u001b[0;32m    284\u001b[0m \u001b[39mdef\u001b[39;00m \u001b[39m__call__\u001b[39m(\u001b[39mself\u001b[39m):\n\u001b[0;32m    285\u001b[0m     \u001b[39m# Set the default nested backend to self._backend but do not set the\u001b[39;00m\n\u001b[0;32m    286\u001b[0m     \u001b[39m# change the default number of processes to -1\u001b[39;00m\n\u001b[0;32m    287\u001b[0m     \u001b[39mwith\u001b[39;00m parallel_backend(\u001b[39mself\u001b[39m\u001b[39m.\u001b[39m_backend, n_jobs\u001b[39m=\u001b[39m\u001b[39mself\u001b[39m\u001b[39m.\u001b[39m_n_jobs):\n\u001b[1;32m--> 288\u001b[0m         \u001b[39mreturn\u001b[39;00m [func(\u001b[39m*\u001b[39margs, \u001b[39m*\u001b[39m\u001b[39m*\u001b[39mkwargs)\n\u001b[0;32m    289\u001b[0m                 \u001b[39mfor\u001b[39;00m func, args, kwargs \u001b[39min\u001b[39;00m \u001b[39mself\u001b[39m\u001b[39m.\u001b[39mitems]\n",
      "File \u001b[1;32mc:\\Users\\ofeks\\OneDrive\\תואר_שני\\שנה ב\\סמסטר א\\נושאים מתקדמים במדעי הנתונים למנהל עסקים\\temp_code\\venv\\lib\\site-packages\\joblib\\parallel.py:288\u001b[0m, in \u001b[0;36m<listcomp>\u001b[1;34m(.0)\u001b[0m\n\u001b[0;32m    284\u001b[0m \u001b[39mdef\u001b[39;00m \u001b[39m__call__\u001b[39m(\u001b[39mself\u001b[39m):\n\u001b[0;32m    285\u001b[0m     \u001b[39m# Set the default nested backend to self._backend but do not set the\u001b[39;00m\n\u001b[0;32m    286\u001b[0m     \u001b[39m# change the default number of processes to -1\u001b[39;00m\n\u001b[0;32m    287\u001b[0m     \u001b[39mwith\u001b[39;00m parallel_backend(\u001b[39mself\u001b[39m\u001b[39m.\u001b[39m_backend, n_jobs\u001b[39m=\u001b[39m\u001b[39mself\u001b[39m\u001b[39m.\u001b[39m_n_jobs):\n\u001b[1;32m--> 288\u001b[0m         \u001b[39mreturn\u001b[39;00m [func(\u001b[39m*\u001b[39margs, \u001b[39m*\u001b[39m\u001b[39m*\u001b[39mkwargs)\n\u001b[0;32m    289\u001b[0m                 \u001b[39mfor\u001b[39;00m func, args, kwargs \u001b[39min\u001b[39;00m \u001b[39mself\u001b[39m\u001b[39m.\u001b[39mitems]\n",
      "File \u001b[1;32mc:\\Users\\ofeks\\OneDrive\\תואר_שני\\שנה ב\\סמסטר א\\נושאים מתקדמים במדעי הנתונים למנהל עסקים\\temp_code\\venv\\lib\\site-packages\\sklearn\\utils\\parallel.py:123\u001b[0m, in \u001b[0;36m_FuncWrapper.__call__\u001b[1;34m(self, *args, **kwargs)\u001b[0m\n\u001b[0;32m    121\u001b[0m     config \u001b[39m=\u001b[39m {}\n\u001b[0;32m    122\u001b[0m \u001b[39mwith\u001b[39;00m config_context(\u001b[39m*\u001b[39m\u001b[39m*\u001b[39mconfig):\n\u001b[1;32m--> 123\u001b[0m     \u001b[39mreturn\u001b[39;00m \u001b[39mself\u001b[39m\u001b[39m.\u001b[39mfunction(\u001b[39m*\u001b[39margs, \u001b[39m*\u001b[39m\u001b[39m*\u001b[39mkwargs)\n",
      "File \u001b[1;32mc:\\Users\\ofeks\\OneDrive\\תואר_שני\\שנה ב\\סמסטר א\\נושאים מתקדמים במדעי הנתונים למנהל עסקים\\temp_code\\venv\\lib\\site-packages\\sklearn\\ensemble\\_forest.py:184\u001b[0m, in \u001b[0;36m_parallel_build_trees\u001b[1;34m(tree, bootstrap, X, y, sample_weight, tree_idx, n_trees, verbose, class_weight, n_samples_bootstrap)\u001b[0m\n\u001b[0;32m    181\u001b[0m     \u001b[39melif\u001b[39;00m class_weight \u001b[39m==\u001b[39m \u001b[39m\"\u001b[39m\u001b[39mbalanced_subsample\u001b[39m\u001b[39m\"\u001b[39m:\n\u001b[0;32m    182\u001b[0m         curr_sample_weight \u001b[39m*\u001b[39m\u001b[39m=\u001b[39m compute_sample_weight(\u001b[39m\"\u001b[39m\u001b[39mbalanced\u001b[39m\u001b[39m\"\u001b[39m, y, indices\u001b[39m=\u001b[39mindices)\n\u001b[1;32m--> 184\u001b[0m     tree\u001b[39m.\u001b[39;49mfit(X, y, sample_weight\u001b[39m=\u001b[39;49mcurr_sample_weight, check_input\u001b[39m=\u001b[39;49m\u001b[39mFalse\u001b[39;49;00m)\n\u001b[0;32m    185\u001b[0m \u001b[39melse\u001b[39;00m:\n\u001b[0;32m    186\u001b[0m     tree\u001b[39m.\u001b[39mfit(X, y, sample_weight\u001b[39m=\u001b[39msample_weight, check_input\u001b[39m=\u001b[39m\u001b[39mFalse\u001b[39;00m)\n",
      "File \u001b[1;32mc:\\Users\\ofeks\\OneDrive\\תואר_שני\\שנה ב\\סמסטר א\\נושאים מתקדמים במדעי הנתונים למנהל עסקים\\temp_code\\venv\\lib\\site-packages\\sklearn\\tree\\_classes.py:889\u001b[0m, in \u001b[0;36mDecisionTreeClassifier.fit\u001b[1;34m(self, X, y, sample_weight, check_input)\u001b[0m\n\u001b[0;32m    859\u001b[0m \u001b[39mdef\u001b[39;00m \u001b[39mfit\u001b[39m(\u001b[39mself\u001b[39m, X, y, sample_weight\u001b[39m=\u001b[39m\u001b[39mNone\u001b[39;00m, check_input\u001b[39m=\u001b[39m\u001b[39mTrue\u001b[39;00m):\n\u001b[0;32m    860\u001b[0m \u001b[39m    \u001b[39m\u001b[39m\"\"\"Build a decision tree classifier from the training set (X, y).\u001b[39;00m\n\u001b[0;32m    861\u001b[0m \n\u001b[0;32m    862\u001b[0m \u001b[39m    Parameters\u001b[39;00m\n\u001b[1;32m   (...)\u001b[0m\n\u001b[0;32m    886\u001b[0m \u001b[39m        Fitted estimator.\u001b[39;00m\n\u001b[0;32m    887\u001b[0m \u001b[39m    \"\"\"\u001b[39;00m\n\u001b[1;32m--> 889\u001b[0m     \u001b[39msuper\u001b[39;49m()\u001b[39m.\u001b[39;49mfit(\n\u001b[0;32m    890\u001b[0m         X,\n\u001b[0;32m    891\u001b[0m         y,\n\u001b[0;32m    892\u001b[0m         sample_weight\u001b[39m=\u001b[39;49msample_weight,\n\u001b[0;32m    893\u001b[0m         check_input\u001b[39m=\u001b[39;49mcheck_input,\n\u001b[0;32m    894\u001b[0m     )\n\u001b[0;32m    895\u001b[0m     \u001b[39mreturn\u001b[39;00m \u001b[39mself\u001b[39m\n",
      "File \u001b[1;32mc:\\Users\\ofeks\\OneDrive\\תואר_שני\\שנה ב\\סמסטר א\\נושאים מתקדמים במדעי הנתונים למנהל עסקים\\temp_code\\venv\\lib\\site-packages\\sklearn\\tree\\_classes.py:379\u001b[0m, in \u001b[0;36mBaseDecisionTree.fit\u001b[1;34m(self, X, y, sample_weight, check_input)\u001b[0m\n\u001b[0;32m    368\u001b[0m \u001b[39melse\u001b[39;00m:\n\u001b[0;32m    369\u001b[0m     builder \u001b[39m=\u001b[39m BestFirstTreeBuilder(\n\u001b[0;32m    370\u001b[0m         splitter,\n\u001b[0;32m    371\u001b[0m         min_samples_split,\n\u001b[1;32m   (...)\u001b[0m\n\u001b[0;32m    376\u001b[0m         \u001b[39mself\u001b[39m\u001b[39m.\u001b[39mmin_impurity_decrease,\n\u001b[0;32m    377\u001b[0m     )\n\u001b[1;32m--> 379\u001b[0m builder\u001b[39m.\u001b[39;49mbuild(\u001b[39mself\u001b[39;49m\u001b[39m.\u001b[39;49mtree_, X, y, sample_weight)\n\u001b[0;32m    381\u001b[0m \u001b[39mif\u001b[39;00m \u001b[39mself\u001b[39m\u001b[39m.\u001b[39mn_outputs_ \u001b[39m==\u001b[39m \u001b[39m1\u001b[39m \u001b[39mand\u001b[39;00m is_classifier(\u001b[39mself\u001b[39m):\n\u001b[0;32m    382\u001b[0m     \u001b[39mself\u001b[39m\u001b[39m.\u001b[39mn_classes_ \u001b[39m=\u001b[39m \u001b[39mself\u001b[39m\u001b[39m.\u001b[39mn_classes_[\u001b[39m0\u001b[39m]\n",
      "\u001b[1;31mKeyboardInterrupt\u001b[0m: "
     ]
    }
   ],
   "source": [
    "prev = -1\n",
    "params = {}\n",
    "best_params = {\"score\": 0}\n",
    "\n",
    "for i in tqdm(range(1, 500, 1)):\n",
    "    treshold = i / 1000\n",
    "    selected = select_features_by_corr(df_ffp_train,treshold)\n",
    "\n",
    "    if prev == len(selected) or len(selected) == 0:\n",
    "        continue\n",
    "    prev = len(selected)\n",
    "\n",
    "    params = get_best_rf(features[selected], label)\n",
    "    if params['score'] > best_params['score']:\n",
    "        best_params = params\n",
    "        best_params['treshold'] = treshold\n",
    "        best_params['features'] = selected\n",
    "\n",
    "params2_rf_corr = best_params\n",
    "show_output(params2_rf_corr)"
   ]
  },
  {
   "cell_type": "code",
   "execution_count": null,
   "metadata": {},
   "outputs": [],
   "source": [
    "prev = -1\n",
    "params = {}\n",
    "best_params = {\"score\": 0}\n",
    "\n",
    "for p in tqdm(range(1, 101, 1)):\n",
    "    selected = select_features_by_SelecPer(features, label, p)\n",
    "\n",
    "    if prev == len(selected) or len(selected) == 0:\n",
    "        continue\n",
    "    prev = len(selected)\n",
    "\n",
    "    params = get_best_rf(features[selected], label)\n",
    "    if params['score'] > best_params['score']:\n",
    "        best_params = params\n",
    "        best_params['percentile'] = p\n",
    "        best_params['features'] = selected\n",
    "\n",
    "params2_rf_per = best_params\n",
    "show_output(params2_rf_per)"
   ]
  },
  {
   "cell_type": "code",
   "execution_count": null,
   "metadata": {},
   "outputs": [],
   "source": [
    "model2 = params2_rf_per\n"
   ]
  },
  {
   "attachments": {},
   "cell_type": "markdown",
   "metadata": {},
   "source": [
    "### Choosing the \"Winning\" models\n"
   ]
  },
  {
   "cell_type": "code",
   "execution_count": null,
   "metadata": {},
   "outputs": [],
   "source": [
    "merged_ffp_rollout"
   ]
  },
  {
   "cell_type": "code",
   "execution_count": null,
   "metadata": {},
   "outputs": [],
   "source": [
    "recommandations = pd.read_csv(\"Documents/recommendations.csv\")\n",
    "\n",
    "def combined_model(row) -> int:\n",
    "    res2 = None\n",
    "\n",
    "    # Just ffp data\n",
    "    res2 = model2['model'].predict(row[model2['features']].values.reshape(1, -1))[0]\n",
    "    \n",
    "    if row.isna().any(): #model2\n",
    "        return res2\n",
    "    # Both reviews and ffp\n",
    "    res1 = model1['model'].predict(row[model1['features']].values.reshape(1, -1))[0]\n",
    "    calc = res1*(model1['score']/(model1['score'] + model2['score'])) + \\\n",
    "            res2*(model2['score']/(model1['score'] + model2['score']))\n",
    "\n",
    "    return round(calc)\n",
    "    \n",
    "recommandations[\"BUYER_FLAG\"] = merged_ffp_rollout.apply(combined_model, axis=1)"
   ]
  },
  {
   "cell_type": "code",
   "execution_count": null,
   "metadata": {},
   "outputs": [],
   "source": [
    "recommandations.to_csv('recommendations_final.csv', index=False)\n",
    "recommandations[\"BUYER_FLAG\"].value_counts()\n",
    "recommandations"
   ]
  }
 ],
 "metadata": {
  "kernelspec": {
   "display_name": "venv",
   "language": "python",
   "name": "python3"
  },
  "language_info": {
   "codemirror_mode": {
    "name": "ipython",
    "version": 3
   },
   "file_extension": ".py",
   "mimetype": "text/x-python",
   "name": "python",
   "nbconvert_exporter": "python",
   "pygments_lexer": "ipython3",
   "version": "3.10.4"
  },
  "orig_nbformat": 4,
  "vscode": {
   "interpreter": {
    "hash": "3c6c368fee16ae7d9e5f6bc2ea9ce3a6d793cd0c63a6735b25b27ad16ffa3269"
   }
  }
 },
 "nbformat": 4,
 "nbformat_minor": 2
}
